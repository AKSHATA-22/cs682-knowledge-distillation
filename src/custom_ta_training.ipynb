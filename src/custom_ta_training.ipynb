{
 "cells": [
  {
   "cell_type": "markdown",
   "metadata": {},
   "source": [
    "# GPU Setting"
   ]
  },
  {
   "cell_type": "code",
   "execution_count": 1,
   "metadata": {},
   "outputs": [
    {
     "name": "stderr",
     "output_type": "stream",
     "text": [
      "2024-11-22 15:10:49.937357: I tensorflow/core/platform/cpu_feature_guard.cc:193] This TensorFlow binary is optimized with oneAPI Deep Neural Network Library (oneDNN) to use the following CPU instructions in performance-critical operations:  SSE4.1 SSE4.2 AVX AVX2 AVX_VNNI FMA\n",
      "To enable them in other operations, rebuild TensorFlow with the appropriate compiler flags.\n",
      "2024-11-22 15:10:50.209654: I tensorflow/core/util/port.cc:104] oneDNN custom operations are on. You may see slightly different numerical results due to floating-point round-off errors from different computation orders. To turn them off, set the environment variable `TF_ENABLE_ONEDNN_OPTS=0`.\n",
      "/home/asko/anaconda3/envs/tf-gpu/lib/python3.9/site-packages/scipy/__init__.py:155: UserWarning: A NumPy version >=1.18.5 and <1.25.0 is required for this version of SciPy (detected version 1.26.4\n",
      "  warnings.warn(f\"A NumPy version >={np_minversion} and <{np_maxversion}\"\n"
     ]
    },
    {
     "name": "stdout",
     "output_type": "stream",
     "text": [
      "Num GPUs Available:  1\n",
      "Using GPU\n"
     ]
    },
    {
     "name": "stderr",
     "output_type": "stream",
     "text": [
      "2024-11-22 15:10:52.202161: I tensorflow/compiler/xla/stream_executor/cuda/cuda_gpu_executor.cc:981] successful NUMA node read from SysFS had negative value (-1), but there must be at least one NUMA node, so returning NUMA node zero\n",
      "2024-11-22 15:10:52.353239: I tensorflow/compiler/xla/stream_executor/cuda/cuda_gpu_executor.cc:981] successful NUMA node read from SysFS had negative value (-1), but there must be at least one NUMA node, so returning NUMA node zero\n",
      "2024-11-22 15:10:52.353562: I tensorflow/compiler/xla/stream_executor/cuda/cuda_gpu_executor.cc:981] successful NUMA node read from SysFS had negative value (-1), but there must be at least one NUMA node, so returning NUMA node zero\n"
     ]
    }
   ],
   "source": [
    "import tensorflow as tf\n",
    "\n",
    "print(\"Num GPUs Available: \", len(tf.config.list_physical_devices('GPU')))\n",
    "USE_GPU = True\n",
    "\n",
    "if USE_GPU and tf.config.list_physical_devices('GPU'):\n",
    "    device = 'GPU'\n",
    "    print(\"Using GPU\")\n",
    "else:\n",
    "    device = 'CPU'\n",
    "    print(\"Using CPU\")"
   ]
  },
  {
   "cell_type": "markdown",
   "metadata": {},
   "source": [
    "# Loading Dataset"
   ]
  },
  {
   "cell_type": "code",
   "execution_count": null,
   "metadata": {},
   "outputs": [],
   "source": [
    "import tarfile\n",
    "from torchvision import datasets, transforms\n",
    "from torch.utils.data import DataLoader\n",
    "from torch.utils.data import sampler\n",
    "import random\n",
    "import torch\n",
    "\n",
    "# Path to the downloaded tgz file\n",
    "tgz_path = \"/home/asko/Documents/workspace/Fall-24/682/project/dataset/imagenette2.tgz\"\n",
    "extract_path = \"./imagenette\"  # Target folder for extraction\n",
    "\n",
    "# Extract the file\n",
    "with tarfile.open(tgz_path, \"r:gz\") as tar:\n",
    "    tar.extractall(path=extract_path)\n",
    "print(\"Extraction completed.\")\n",
    "\n",
    "\n",
    "transform = transforms.Compose([\n",
    "    transforms.Resize((224,224)),  # Resize images to a size suitable for VGG16\n",
    "    transforms.ToTensor(),  # Convert image to tensor\n",
    "    transforms.Normalize(mean=[0.485, 0.456, 0.406], std=[0.229, 0.224, 0.225])  # Normalize as per VGG16\n",
    "])\n",
    "extract_path_train = \"./imagenette/imagenette2/train\"\n",
    "train_dataset = datasets.ImageFolder(\n",
    "    root=extract_path_train,  # Imagenette URL\n",
    "    transform=transform\n",
    ")\n",
    "extract_path_val = \"./imagenette/imagenette2/val\"\n",
    "val_dataset = datasets.ImageFolder(\n",
    "    root=extract_path_val,  # Imagenette URL\n",
    "    transform=transform\n",
    ")\n",
    "\n",
    "batch_size = 8\n",
    "sampler_train = sampler.SubsetRandomSampler(range(len(train_dataset)))\n",
    "train_loader = DataLoader(train_dataset, batch_size=batch_size, sampler=sampler_train)\n",
    "\n",
    "batch_size = 8\n",
    "sampler_val = sampler.SubsetRandomSampler(range(1000))\n",
    "val_loader = DataLoader(val_dataset, batch_size=batch_size, sampler=sampler_val)\n",
    "\n",
    "# batch_size = 32\n",
    "# sampler_test = sampler.SubsetRandomSampler(range(1000, len(val_dataset)))\n",
    "# test_loader = DataLoader(val_dataset, batch_size=batch_size, sampler=sampler_test)\n"
   ]
  },
  {
   "cell_type": "code",
   "execution_count": null,
   "metadata": {},
   "outputs": [],
   "source": [
    "import tensorflow as tf6559\n",
    "from TACNNModel.TACNN import TACNN\n",
    "\n",
    "alpha = 0.5\n",
    "temperature = 3\n",
    "\n",
    "# Load the VGG16 Teacher model\n",
    "import dill\n",
    "with open(\"modecmtd_studentl.pkl\", \"rb\") as f:\n",
    "    teacher_model = dill.load(f)\n",
    "\n",
    "# Load the VGG16 model\n",
    "ta_model = TACNN(alpha=alpha, temperature=temperature, num_of_classes=10)\n",
    "\n",
    "device = 'cuda' if len(tf.config.list_physical_devices('GPU'))!=0 else 'cpu'\n",
    "teacher_model.to(device)\n",
    "ta_model.to(device)\n",
    "print(device)\n"
   ]
  },
  {
   "cell_type": "code",
   "execution_count": null,
   "metadata": {},
   "outputs": [],
   "source": [
    "def check_accuracy_part34(loader, model):\n",
    "    print('Checking accuracy on validation set')   \n",
    "    num_correct = 0\n",
    "    num_samples = 0\n",
    "    model.eval()  # set model to evaluation mode\n",
    "    with torch.no_grad():\n",
    "        for x, y in loader:\n",
    "            x = x.to(device=device, dtype=torch.float32)  # move to device, e.g. GPU\n",
    "            y = y.to(device=device, dtype=torch.long)\n",
    "            scores = model(x)\n",
    "            _, preds = scores.max(1)\n",
    "            num_correct += (preds == y).sum()\n",
    "            num_samples += preds.size(0)\n",
    "        acc = float(num_correct) / num_samples\n",
    "        print('Got %d / %d correct (%.2f)' % (num_correct, num_samples, 100 * acc))\n"
   ]
  },
  {
   "cell_type": "code",
   "execution_count": null,
   "metadata": {},
   "outputs": [],
   "source": [
    "import torch.optim as optim\n",
    "import torch\n",
    "import torch.nn.functional as F\n",
    "\n",
    "optimizer = optim.Adam(ta_model.parameters(), lr=0.01)\n",
    "# optimizer = optim.SGD(model.parameters(), lr=0.01, weight_decay=1e-5, momentum=0.98, nesterov=False)\n",
    "torch.set_grad_enabled(True)\n",
    "\n",
    "num_epochs = 50\n",
    "# batch_size = 16  \n",
    "model_weights = None\n",
    "print_every = 100\n",
    "\n",
    "for epoch in range(num_epochs): \n",
    "    for batch_idx, (images, labels) in enumerate(train_loader):\n",
    "        ta_model.train()           \n",
    "        \n",
    "        images = images.to(device, dtype=torch.float32)\n",
    "        labels = labels.to(device, dtype=torch.long)\n",
    "        \n",
    "        ta_output = ta_model(images)\n",
    "        teacher_output = torch.load(f\"outputs/Teacher_VGG/teacher_outputs_{batch_idx}.pt\")\n",
    "\n",
    "        loss = ta_model.risk(Y=labels, teacher_preds=teacher_output, output=ta_output)\n",
    "        \n",
    "        optimizer.zero_grad()\n",
    "        loss.backward()\n",
    "        optimizer.step()\n",
    "        \n",
    "        if batch_idx % print_every == 0:\n",
    "            print('Iteration %d, loss = %.4f' % (batch_idx, loss.item()))\n",
    "            check_accuracy_part34(val_loader, ta_model)\n",
    "            print()\n",
    "        \n",
    "        torch.cuda.empty_cache()\n",
    "        del ta_output, teacher_output, images, labels, loss\n",
    "        \n",
    "    print(f\"Epoch {epoch} complete\")"
   ]
  }
 ],
 "metadata": {
  "kernelspec": {
   "display_name": "tf-gpu",
   "language": "python",
   "name": "python3"
  },
  "language_info": {
   "codemirror_mode": {
    "name": "ipython",
    "version": 3
   },
   "file_extension": ".py",
   "mimetype": "text/x-python",
   "name": "python",
   "nbconvert_exporter": "python",
   "pygments_lexer": "ipython3",
   "version": "3.9.20"
  }
 },
 "nbformat": 4,
 "nbformat_minor": 2
}
